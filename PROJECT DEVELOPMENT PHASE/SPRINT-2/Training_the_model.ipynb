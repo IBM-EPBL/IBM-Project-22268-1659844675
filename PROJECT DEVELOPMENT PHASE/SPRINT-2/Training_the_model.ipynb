{
  "nbformat": 4,
  "nbformat_minor": 0,
  "metadata": {
    "colab": {
      "provenance": []
    },
    "kernelspec": {
      "name": "python3",
      "display_name": "Python 3"
    },
    "language_info": {
      "name": "python"
    }
  },
  "cells": [
    {
      "cell_type": "markdown",
      "source": [
        "Importing Keras libraries\n"
      ],
      "metadata": {
        "id": "CJWYkDhe62Tb"
      }
    },
    {
      "cell_type": "code",
      "execution_count": 1,
      "metadata": {
        "id": "HpHh3ly053gD"
      },
      "outputs": [],
      "source": [
        "import keras"
      ]
    },
    {
      "cell_type": "code",
      "source": [
        "pip install twilio"
      ],
      "metadata": {
        "colab": {
          "base_uri": "https://localhost:8080/"
        },
        "id": "oETZ6V3T561Q",
        "outputId": "9a009e8d-d45e-4ecc-c338-7f390339a14a"
      },
      "execution_count": 2,
      "outputs": [
        {
          "output_type": "stream",
          "name": "stdout",
          "text": [
            "Looking in indexes: https://pypi.org/simple, https://us-python.pkg.dev/colab-wheels/public/simple/\n",
            "Collecting twilio\n",
            "  Downloading twilio-7.15.3-py2.py3-none-any.whl (1.4 MB)\n",
            "\u001b[K     |████████████████████████████████| 1.4 MB 6.5 MB/s \n",
            "\u001b[?25hRequirement already satisfied: pytz in /usr/local/lib/python3.7/dist-packages (from twilio) (2022.6)\n",
            "Collecting PyJWT<3.0.0,>=2.0.0\n",
            "  Downloading PyJWT-2.6.0-py3-none-any.whl (20 kB)\n",
            "Requirement already satisfied: requests>=2.0.0 in /usr/local/lib/python3.7/dist-packages (from twilio) (2.23.0)\n",
            "Requirement already satisfied: chardet<4,>=3.0.2 in /usr/local/lib/python3.7/dist-packages (from requests>=2.0.0->twilio) (3.0.4)\n",
            "Requirement already satisfied: certifi>=2017.4.17 in /usr/local/lib/python3.7/dist-packages (from requests>=2.0.0->twilio) (2022.9.24)\n",
            "Requirement already satisfied: idna<3,>=2.5 in /usr/local/lib/python3.7/dist-packages (from requests>=2.0.0->twilio) (2.10)\n",
            "Requirement already satisfied: urllib3!=1.25.0,!=1.25.1,<1.26,>=1.21.1 in /usr/local/lib/python3.7/dist-packages (from requests>=2.0.0->twilio) (1.24.3)\n",
            "Installing collected packages: PyJWT, twilio\n",
            "Successfully installed PyJWT-2.6.0 twilio-7.15.3\n"
          ]
        }
      ]
    },
    {
      "cell_type": "markdown",
      "source": [
        "Importing ImageDataGenerator from Keras\n"
      ],
      "metadata": {
        "id": "B8jSWqHS66lO"
      }
    },
    {
      "cell_type": "code",
      "source": [
        "from matplotlib import pyplot as plt\n",
        "from keras.preprocessing.image import ImageDataGenerator"
      ],
      "metadata": {
        "id": "hvwrZf2m585w"
      },
      "execution_count": 3,
      "outputs": []
    },
    {
      "cell_type": "markdown",
      "source": [
        "Defining the Parameters\n"
      ],
      "metadata": {
        "id": "1iCJhlCp69O3"
      }
    },
    {
      "cell_type": "code",
      "source": [
        "train_datagen=ImageDataGenerator(rescale=1./255,shear_range=0.2,rotation_range=180,zoom_range=0.2,horizontal_flip=True)\n",
        "test_datagen=ImageDataGenerator(rescale=1./255,shear_range=0.2,rotation_range=180,zoom_range=0.2,horizontal_flip=True)"
      ],
      "metadata": {
        "id": "PWU-uEpQ6AMe"
      },
      "execution_count": 4,
      "outputs": []
    },
    {
      "cell_type": "markdown",
      "source": [
        "Applying ImageDataGenerator functionality to train dataset\n"
      ],
      "metadata": {
        "id": "z5Dwq1aI7B7e"
      }
    },
    {
      "cell_type": "code",
      "source": [
        "from google.colab import drive\n",
        "drive.mount('/content/drive')"
      ],
      "metadata": {
        "colab": {
          "base_uri": "https://localhost:8080/"
        },
        "id": "UwxXxRME6Cy-",
        "outputId": "3e06dbb5-c57d-4877-9534-bee73ea67d9b"
      },
      "execution_count": 5,
      "outputs": [
        {
          "output_type": "stream",
          "name": "stdout",
          "text": [
            "Mounted at /content/drive\n"
          ]
        }
      ]
    },
    {
      "cell_type": "code",
      "source": [
        "x_train=train_datagen.flow_from_directory('/content/drive/MyDrive/Dataset/train_set',target_size=(64,64),batch_size=32,class_mode='binary')\n"
      ],
      "metadata": {
        "colab": {
          "base_uri": "https://localhost:8080/"
        },
        "id": "g7rNCxjC6NxE",
        "outputId": "bd1b4bde-50b5-4ee0-8d53-cc9eeb3e9525"
      },
      "execution_count": 6,
      "outputs": [
        {
          "output_type": "stream",
          "name": "stdout",
          "text": [
            "Found 436 images belonging to 2 classes.\n"
          ]
        }
      ]
    },
    {
      "cell_type": "markdown",
      "source": [
        "Applying ImageDataGenerator functionality to test dataset\n"
      ],
      "metadata": {
        "id": "wP_XrXy-7EHG"
      }
    },
    {
      "cell_type": "code",
      "source": [
        "x_test=test_datagen.flow_from_directory('/content/drive/MyDrive/Dataset/test_set',target_size=(64,64),batch_size=32,class_mode='binary')"
      ],
      "metadata": {
        "colab": {
          "base_uri": "https://localhost:8080/"
        },
        "id": "lTO4oBe86YVY",
        "outputId": "f01ebf7d-85e5-4dec-a2af-f576b543ff9a"
      },
      "execution_count": 7,
      "outputs": [
        {
          "output_type": "stream",
          "name": "stdout",
          "text": [
            "Found 121 images belonging to 2 classes.\n"
          ]
        }
      ]
    },
    {
      "cell_type": "markdown",
      "source": [
        "Importing Model Building Libraries\n"
      ],
      "metadata": {
        "id": "UyCeFAqf7GuC"
      }
    },
    {
      "cell_type": "code",
      "source": [
        "#to define the linear Initialisation import sequential\n",
        "from keras.models import Sequential\n",
        "#to add layers import Dense\n",
        "from keras.layers import Dense\n",
        "#to create Convolutional kernel import convolution2D\n",
        "from keras.layers import Convolution2D\n",
        "#import Maxpooling layer \n",
        "from keras.layers import MaxPooling2D\n",
        "#import flatten layer\n",
        "from keras.layers import Flatten\n",
        "import warnings\n",
        "warnings.filterwarnings('ignore')"
      ],
      "metadata": {
        "id": "mP1ELs896mxj"
      },
      "execution_count": 8,
      "outputs": []
    },
    {
      "cell_type": "markdown",
      "source": [
        "Initializing the model\n"
      ],
      "metadata": {
        "id": "S_UHOsux7IiJ"
      }
    },
    {
      "cell_type": "code",
      "source": [
        "model = Sequential()"
      ],
      "metadata": {
        "id": "Cy9IGs2L6mwA"
      },
      "execution_count": 9,
      "outputs": []
    },
    {
      "cell_type": "markdown",
      "source": [
        "Adding CNN Layers\n"
      ],
      "metadata": {
        "id": "PVcPJOi97JU5"
      }
    },
    {
      "cell_type": "code",
      "source": [
        "model.add(Convolution2D(32,(3,3),input_shape=(64,64,3),activation='relu'))\n",
        "#add maxpooling layers\n",
        "model.add(MaxPooling2D(pool_size=(2,2)))\n",
        "#add faltten layer\n",
        "model.add(Flatten())"
      ],
      "metadata": {
        "id": "e_abY1Hn6rQA"
      },
      "execution_count": 10,
      "outputs": []
    },
    {
      "cell_type": "markdown",
      "source": [
        "Add Dense layers\n"
      ],
      "metadata": {
        "id": "8L-0bS6Q7M2g"
      }
    },
    {
      "cell_type": "code",
      "source": [
        "#add hidden layers\n",
        "model.add(Dense(150,activation='relu'))\n",
        "#add output layer\n",
        "model.add(Dense(1,activation='sigmoid'))"
      ],
      "metadata": {
        "id": "x5-e_jC46sK_"
      },
      "execution_count": 11,
      "outputs": []
    },
    {
      "cell_type": "markdown",
      "source": [
        "configuring the learning process\n"
      ],
      "metadata": {
        "id": "XwdhjHfK7OqZ"
      }
    },
    {
      "cell_type": "code",
      "source": [
        "model.compile(loss='binary_crossentropy',optimizer=\"adam\",metrics=[\"accuracy\"])"
      ],
      "metadata": {
        "id": "ZScDwizR6vWA"
      },
      "execution_count": 12,
      "outputs": []
    },
    {
      "cell_type": "markdown",
      "source": [
        "Training the model\n"
      ],
      "metadata": {
        "id": "c4tK9iwk7Pl3"
      }
    },
    {
      "cell_type": "code",
      "source": [
        "model.fit_generator(x_train,steps_per_epoch=14,epochs=10,validation_data=x_test,validation_steps=4)"
      ],
      "metadata": {
        "colab": {
          "base_uri": "https://localhost:8080/"
        },
        "id": "oUPRWtqh6wao",
        "outputId": "2829517e-2f06-455b-8a32-d843a775927a"
      },
      "execution_count": 13,
      "outputs": [
        {
          "output_type": "stream",
          "name": "stdout",
          "text": [
            "Epoch 1/10\n",
            "14/14 [==============================] - 144s 10s/step - loss: 1.0071 - accuracy: 0.6743 - val_loss: 0.2114 - val_accuracy: 0.9256\n",
            "Epoch 2/10\n",
            "14/14 [==============================] - 23s 2s/step - loss: 0.3051 - accuracy: 0.8670 - val_loss: 0.1331 - val_accuracy: 0.9587\n",
            "Epoch 3/10\n",
            "14/14 [==============================] - 21s 1s/step - loss: 0.2212 - accuracy: 0.9128 - val_loss: 0.1152 - val_accuracy: 0.9587\n",
            "Epoch 4/10\n",
            "14/14 [==============================] - 21s 1s/step - loss: 0.2174 - accuracy: 0.8968 - val_loss: 0.1741 - val_accuracy: 0.8926\n",
            "Epoch 5/10\n",
            "14/14 [==============================] - 24s 2s/step - loss: 0.2257 - accuracy: 0.9014 - val_loss: 0.0970 - val_accuracy: 0.9835\n",
            "Epoch 6/10\n",
            "14/14 [==============================] - 22s 2s/step - loss: 0.1842 - accuracy: 0.9220 - val_loss: 0.0854 - val_accuracy: 0.9835\n",
            "Epoch 7/10\n",
            "14/14 [==============================] - 22s 2s/step - loss: 0.1968 - accuracy: 0.9197 - val_loss: 0.1289 - val_accuracy: 0.9421\n",
            "Epoch 8/10\n",
            "14/14 [==============================] - 21s 2s/step - loss: 0.2127 - accuracy: 0.9037 - val_loss: 0.0778 - val_accuracy: 0.9752\n",
            "Epoch 9/10\n",
            "14/14 [==============================] - 22s 2s/step - loss: 0.1845 - accuracy: 0.9266 - val_loss: 0.0802 - val_accuracy: 0.9752\n",
            "Epoch 10/10\n",
            "14/14 [==============================] - 21s 2s/step - loss: 0.1769 - accuracy: 0.9335 - val_loss: 0.1270 - val_accuracy: 0.9421\n"
          ]
        },
        {
          "output_type": "execute_result",
          "data": {
            "text/plain": [
              "<keras.callbacks.History at 0x7f1d8e19ec90>"
            ]
          },
          "metadata": {},
          "execution_count": 13
        }
      ]
    },
    {
      "cell_type": "markdown",
      "source": [
        "Save the model\n"
      ],
      "metadata": {
        "id": "w2LPTklX7RYn"
      }
    },
    {
      "cell_type": "code",
      "source": [
        "model.save(\"forest.h5\")"
      ],
      "metadata": {
        "id": "z6P4TJEP6ylo"
      },
      "execution_count": 14,
      "outputs": []
    }
  ]
}